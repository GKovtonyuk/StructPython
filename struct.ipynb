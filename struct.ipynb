{
  "cells": [
    {
      "cell_type": "markdown",
      "metadata": {
        "id": "view-in-github",
        "colab_type": "text"
      },
      "source": [
        "<a href=\"https://colab.research.google.com/github/GKovtonyuk/StructPython/blob/main/struct.ipynb\" target=\"_parent\"><img src=\"https://colab.research.google.com/assets/colab-badge.svg\" alt=\"Open In Colab\"/></a>"
      ]
    },
    {
      "cell_type": "markdown",
      "metadata": {
        "id": "Rb5wF1hkX-W8"
      },
      "source": [
        "1.\tСтруктура Студент (student)  містить поля:: ПІП студента, рік народження, рік вступу, оцінки.\n",
        " Оцінки виставлено з предметів: алгебра, геометрія, математичний аналіз, інформатика. Скласти програму, яка виводить список студентів, що навчаються на 4 і 5."
      ]
    },
    {
      "cell_type": "code",
      "execution_count": null,
      "metadata": {
        "colab": {
          "base_uri": "https://localhost:8080/"
        },
        "id": "gLbcYdNHYuER",
        "outputId": "6e5df3d0-ea0a-4f4a-e344-47661bd0bc87"
      },
      "outputs": [
        {
          "output_type": "stream",
          "name": "stdout",
          "text": [
            "Введіть кількість студентів: 2\n",
            "1-й студент:\n",
            " Введіть П.І.П: смсаипа\n",
            "Введіть рік народження: 1234\n",
            "Введіть рік вступу: 2345\n",
            "Введіть оцінки\n",
            "Алгебра\n",
            "3\n",
            "Геометрія\n",
            "4\n",
            "Математичний аналіз\n",
            "3\n",
            "Інформатика\n",
            "2\n",
            "2-й студент:\n",
            " Введіть П.І.П: аипарнп\n",
            "Введіть рік народження: 3243\n",
            "Введіть рік вступу: 567\n",
            "Введіть оцінки\n",
            "Алгебра\n",
            "5\n",
            "Геометрія\n",
            "5\n",
            "Математичний аналіз\n",
            "4\n",
            "Інформатика\n",
            "5\n",
            "**************************************************\n",
            "Навчаютьмя на 4 і 5:\n",
            "аипарнп\n"
          ]
        }
      ],
      "source": [
        "class TStudent:\n",
        "    pass\n",
        "a=[]\n",
        "n=eval(input(\"Введіть кількість студентів: \"))\n",
        "for i in range(n):\n",
        "    a.append(TStudent())\n",
        "    a[i].PIB=input(str(i+1)+\"-й студент:\\n Введіть П.І.П: \")\n",
        "    a[i].RN=int(input(\"Введіть рік народження: \"))\n",
        "    a[i].RV=int(input(\"Введіть рік вступу: \"))\n",
        "    a[i].O=[] #Список оцінок\n",
        "    print('Введіть оцінки')\n",
        "    for j in range(4):\n",
        "      if j==0:\n",
        "        print('Алгебра')\n",
        "      elif j==1:\n",
        "        print('Геометрія')\n",
        "      elif j==2:\n",
        "        print('Математичний аналіз')\n",
        "      elif j==3:\n",
        "        print('Інформатика')\n",
        "      a[i].O.append(int(input()))\n",
        "print(\"*\"*50)\n",
        "print('Навчаютьмя на 4 і 5:')\n",
        "for i in range(n):\n",
        "  B=True\n",
        "  for j in range(4):\n",
        "    if a[i].O[j]<4:\n",
        "      B=False\n",
        "  if B==True:\n",
        "    print(a[i].PIB)\n"
      ]
    },
    {
      "cell_type": "markdown",
      "metadata": {
        "id": "d5HWFJHKYJZX"
      },
      "source": [
        "2.\tСтруктура містить такі поля: назва команди, кількість поразок, кількість перемог, кількість нічиїх. Вивести на екран команду, яка найбільше разів перемогла."
      ]
    },
    {
      "cell_type": "code",
      "execution_count": null,
      "metadata": {
        "id": "WE593XDEXegi"
      },
      "outputs": [],
      "source": [
        "#2\n",
        "class Team:\n",
        "    pass\n",
        "a=[]\n",
        "n=eval(input(\"n=\"))\n",
        "for i in range(n):\n",
        "    a.append(Team())\n",
        "    a[i].NK=input(str(i+1)+\"-ша команда:\\n Введіть Назву команди\")\n",
        "    a[i].KP=int(input(\"Введіть кількість поразок:\"))\n",
        "    a[i].KPeremog=int(input(\"Введіть кількість перемог:\"))\n",
        "    a[i].KN=int(input(\"Введіть кількість нічиїх:\"))\n",
        "print(\"*\"*30)\n",
        "\n",
        "max=a[0].KPeremog\n",
        "for i in range(n):\n",
        "    if a[i].KPeremog>max:\n",
        "         max=a[i].KPeremog\n",
        "for i in range(n):\n",
        "    if a[i].KPeremog==max:\n",
        "         print(\"Найбільше перемог:\",a[i].NK,\"\\n\")"
      ]
    },
    {
      "cell_type": "markdown",
      "metadata": {
        "id": "vXc71fShZijA"
      },
      "source": [
        "3.\tСтруктура містить такі поля: ПІП студента, курс, номер групи, рік народження. Вивести на екран наймолодшого студента."
      ]
    },
    {
      "cell_type": "code",
      "execution_count": null,
      "metadata": {
        "id": "egyIagnEZkP-"
      },
      "outputs": [],
      "source": [
        "\n",
        "#3\n",
        "class Student:\n",
        "    pass\n",
        "a=[]\n",
        "n=eval(input(\"n=\"))\n",
        "for i in range(n):\n",
        "    a.append(Student())\n",
        "    a[i].PIB=input(str(i+1)+\"-й студент:\\n Введіть П.І.П.:\")\n",
        "    a[i].curs=int(input(\"Введіть курс:\"))\n",
        "    a[i].grup=input(\"Введіть назву групи:\")\n",
        "    a[i].RN=int(input(\"Введіть рік народження:\"))\n",
        "    print('*'*40)\n",
        "print('_'*40)\n",
        "minim=a[0].RN\n",
        "for i in range(n):\n",
        "    if a[i].RN>minim:\n",
        "        minim=a[i].RN\n",
        "for i in range(n):\n",
        "   if a[i].RN==minim:\n",
        "     print(\"Наймолодший студент:\",a[i].PIB,\"\\n\")\n"
      ]
    },
    {
      "cell_type": "markdown",
      "metadata": {
        "id": "3eOM2dAgztLn"
      },
      "source": [
        "4. Структура містить поля: П.І.П., дата народження, адреса, курс і група. Вивести на екран прізвища студентів 2-го курсу."
      ]
    },
    {
      "cell_type": "code",
      "execution_count": null,
      "metadata": {
        "id": "6iw5_bFQzxwk"
      },
      "outputs": [],
      "source": [
        "class TStudent:\n",
        "    pass\n",
        "a=[]\n",
        "n = int(input(\"Введіть кількість студентів n=\"))\n",
        "for i in range(n):\n",
        "    a.append(TStudent())\n",
        "    a[i].PIB = input(str(i+1) + \"-й студент: \\n Введіть П.І.П.: \")\n",
        "    a[i].RN = int(input(\"Введіть рік народження: \"))\n",
        "    a[i].Adresa = input(\"Введіть адресу: \")\n",
        "    a[i].curs = int(input(\"Введіть курс: \"))\n",
        "    a[i].grup = input(\"Введіть назву групи: \")\n",
        "for i in range(n):\n",
        "    print(\"ПІП: \",a[i].PIB)\n",
        "    print(\"Рік народження: \",a[i].RN)\n",
        "    print(\"Адреса: \",a[i].Adresa)\n",
        "    print(\"Курс: \",a[i].curs)\n",
        "    print(\"Група: \",a[i].grup)\n",
        "print(\"_ _\"*20)\n",
        "print(\"Студенти 2 курсу: \")\n",
        "for i in range(n):\n",
        "    if a[i].curs==2:\n",
        "        print(a[i].PIB,\"\\t\",a[i].grup,\"\\n\")\n"
      ]
    },
    {
      "cell_type": "markdown",
      "metadata": {
        "id": "azSpAflc0jEA"
      },
      "source": [
        "5.Використовуючи масив типу структура, скласти програму, за допомогою якої можна ввести у пам'ять комп’ютера дані про наявність на складі автомашин і отримати інформацію про марки та рік випуску машин, ціна яких менша, ніж 40000 грн"
      ]
    },
    {
      "cell_type": "code",
      "execution_count": null,
      "metadata": {
        "id": "_-2jE6L70lrd"
      },
      "outputs": [],
      "source": [
        "class Tavto:\n",
        "    pass\n",
        "a=[]\n",
        "n = int(input(\"Кількість машин n=\"))\n",
        "for i in range(n):\n",
        "    a.append(Tavto())\n",
        "    a[i].marka = input(\"Введіть марку машини: \")\n",
        "    a[i].year = int(input(\"Рік випуску: \"))\n",
        "    a[i].price = int(input(\"Ціна \"))\n",
        "print(\"\\n Фірма пропонує такі машини:\\n\")\n",
        "print(\"назва\\t рік випуску \\t ціна\\n\")\n",
        "for i in range(n):\n",
        "    print(a[i].marka,\"\\t\\t\",a[i].year,\"\\t\",a[i].price,\"\\n\")\n",
        "print(\"\\nМашини <40000:\\n\")\n",
        "print(\"назва\\t рік випуску\\n\")\n",
        "for i in range(n):\n",
        "    if a[i].price<40000:\n",
        "        print(a[i].marka,\"\\t\\t\",a[i].year,\"\\n\")"
      ]
    },
    {
      "cell_type": "markdown",
      "metadata": {
        "id": "Cj2cg5Ew0rxi"
      },
      "source": [
        "6.\tСтруктура містить поля: ПІП автора книги, назва книги, рік видання, кількість книг, вартість книги. Вивести на екран дані про кількість книг вартість яких  <200 грн, знайти суму книг вартість яких <200 грн."
      ]
    },
    {
      "cell_type": "code",
      "execution_count": null,
      "metadata": {
        "id": "UqwHxznG02rd"
      },
      "outputs": [],
      "source": [
        "#структура книга\n",
        "class book:\n",
        "    pass\n",
        "n=int(input('n='))\n",
        "b=[]\n",
        "for i in range (n):\n",
        "    b.append(book())\n",
        "    b[i].author=input(\"Введіть ім\\'я автора: \")\n",
        "    b[i].title=input(\"Введіть назву: \")\n",
        "    b[i].year=int(input(\"Рік видання: \"))\n",
        "    b[i].kilkist=int(input(\"Кількість книг: \"))\n",
        "    b[i].price=int(input(\"Вартість книги: \"))\n",
        "#книги < 200 грн\n",
        "#знаходими суму всіх книг в каталозі\n",
        "print(  \"Сума <200: \")\n",
        "s=0\n",
        "for i in range (n):\n",
        "    if b[i].price < 200:\n",
        "        print( \"Автор: \", b[i].author)\n",
        "        print(  \"Назва: \" , b[i].title)\n",
        "        print(  \"Кількість книг: \",b[i].kilkist)\n",
        "        print(  \"Ціна книги: \",b[i].price)\n",
        "        k=b[i].kilkist*b[i].price\n",
        "    s += k;\n",
        "print(  \"Сума S=\", s,sep=\"\")"
      ]
    },
    {
      "cell_type": "code",
      "source": [
        "!git add ."
      ],
      "metadata": {
        "colab": {
          "base_uri": "https://localhost:8080/"
        },
        "id": "qjIJAO8qoXLN",
        "outputId": "d7d8f3e7-79be-4515-8862-e267dc39e0c5"
      },
      "execution_count": 3,
      "outputs": [
        {
          "output_type": "stream",
          "name": "stdout",
          "text": [
           
          ]
        }
      ]
    }
  ],
  "metadata": {
    "colab": {
      "provenance": [],
      "include_colab_link": true
    },
    "kernelspec": {
      "display_name": "Python 3",
      "name": "python3"
    },
    "language_info": {
      "name": "python"
    }
  },
  "nbformat": 4,
  "nbformat_minor": 0
}
